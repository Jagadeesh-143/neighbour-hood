{
    "cells": [
        {
            "cell_type": "markdown",
            "metadata": {
                "collapsed": true
            },
            "source": "<h1> The battle of Beighborhood"
        },
        {
            "cell_type": "markdown",
            "metadata": {},
            "source": "<h2> Problem Back ground"
        },
        {
            "cell_type": "markdown",
            "metadata": {},
            "source": "\n\nThe City of New York, is the most populous city in the United States. It is diverse and is the financial capital of USA. It is multicultural. It provides lot of business oppourtunities and business friendly environment. It has attracted many different players into the market. It is a global hub of business and commerce. The city is a major center for banking and finance, retailing, world trade, transportation, tourism, real estate, new media, traditional media, advertising, legal services, accountancy, insurance, theater, fashion, and the arts in the United States.\n\nThis also means that the market is highly competitive. As it is highly developed city so cost of doing business is also one of the highest. Thus, any new business venture or expansion needs to be analysed carefully. The insights derived from analysis will give good understanding of the business environment which help in strategically targeting the market. This will help in reduction of risk. And the Return on Investment will be reasonable.\n"
        },
        {
            "cell_type": "markdown",
            "metadata": {},
            "source": "<h2> Problem Description"
        },
        {
            "cell_type": "markdown",
            "metadata": {},
            "source": "\n\nA restaurant is a business which prepares and serves food and drink to customers in return for money, either paid before the meal, after the meal, or with an open account. The City of New York is famous for its excelllent cuisine. It's food culture includes an array of international cuisines influenced by the city's immigrant history.\n\n    Central and Eastern European immigrants, especially Jewish immigrants - bagels, cheesecake, hot dogs, knishes, and delicatessens\n    Italian immigrants - New York-style pizza and Italian cuisine\n    Jewish immigrants and Irish immigrants - pastrami and corned beef\n    Chinese and other Asian restaurants, sandwich joints, trattorias, diners, and coffeehouses are ubiquitous throughout the city\n    mobile food vendors - Some 4,000 licensed by the city\n    Middle Eastern foods such as falafel and kebabs examples of modern New York street food\n    It is famous for not just Pizzerias, Cafe's but also for fine dining Michelin starred restaurants.The city is home to \"nearly one thousand of the finest and most diverse haute cuisine restaurants in the world\", according to Michelin.\n\nSo it is evident that to survive in such competitive market it is very important to startegically plan. Various factors need to be studied inorder to decide on the Location such as :\n\n    New York Population\n    New York City Demographics\n    Are there any Farmers Markets, Wholesale markets etc nearby so that the ingredients can be purchased fresh to maintain quality and cost?\n    Are there any venues like Gyms, Entertainmnet zones, Parks etc nearby where floating population is high etc\n    Who are the competitors in that location?\n    Cuisine served / Menu of the competitors\n    Segmentation of the Borough\n    Untapped markets\n    Saturated markets etc\n    The list can go on...\n\nEventhough well funded XYZ Company Ltd. need to choose the correct location to start its first venture.If this is successful they can replicate the same in other locations. First move is very important, thereby choice of location is very important.\n"
        },
        {
            "cell_type": "markdown",
            "metadata": {},
            "source": "<h2> Target Audience"
        },
        {
            "cell_type": "markdown",
            "metadata": {},
            "source": "\n\nTo recommend the correct location, XYZ Company Ltd has appointed me to lead of the Data Science team. The objective is to locate and recommend to the management which neighborhood of Newyork city will be best choice to start a restaurant. The Management also expects to understand the rationale of the recommendations made.\n\nThis would interest anyone who wants to start a new restaurant in Newyork city.\n"
        },
        {
            "cell_type": "markdown",
            "metadata": {},
            "source": "<h2> Success Criteria"
        },
        {
            "cell_type": "markdown",
            "metadata": {},
            "source": "The success criteria of the project will be a good recommendation of borough/Neighborhood choice to XYZ Company Ltd based on Lack of such restaurants in that location and nearest suppliers of ingredients."
        },
        {
            "cell_type": "markdown",
            "metadata": {},
            "source": "<h2> Data"
        },
        {
            "cell_type": "markdown",
            "metadata": {},
            "source": "\n\nOne city will be analysed in this project : Newyork City.\n\nWe will be using the below datasets for analysing Newyork city\n\nData 1 : Neighborhood has a total of 5 boroughs and 306 neighborhoods. In order to segement the neighborhoods and explore them, we will essentially need a dataset that contains the 5 boroughs and the neighborhoods that exist in each borough as well as the the latitude and logitude coordinates of each neighborhood.\n\nThis dataset exists for free on the web. Link to the dataset is : https://geo.nyu.edu/catalog/nyu_2451_34572\n\nData 2 : Second data which will be used is the DOHMH Farmers Markets and Food Boxes dataset. In this we will be using the data of Farmers Markets.\n\nhttps://data.cityofnewyork.us/dataset/DOHMH-Farmers-Markets-and-Food-Boxes/8vwk-6iz2\n\nWebsite-https://www.grownyc.org/greenmarketco/foodbox GrowNYC's Fresh Food Box Program is a food access initiative that enables under-served communities to purchase fresh, healthy, and primarily regionally grown produce well below traditional retail prices.\n\nA farmers' market is often defined as a public site used by two or more local or regional producers for the direct sale of farm products to consumers. In addition to fresh fruits and vegetables, markets may sell dairy products, fish, meat, baked goods, and other minimally processed foods.\n\nData 3 : For the below analysis we will get data from wikipedia as given below :\n\nNew York Population\nNew York City Demographics\nCuisine of New York city\n\nhttps://en.wikipedia.org/wiki/New_York_City https://en.wikipedia.org/wiki/Economy_of_New_York_City https://en.wikipedia.org/wiki/Portal:New_York_City https://en.wikipedia.org/wiki/Cuisine_of_New_York_City https://en.wikipedia.org/wiki/List_of_Michelin_starred_restaurants_in_New_York_City\n\nData 4 : Newyork city geographical coordinates data will be utilized as input for the Foursquare API, that will be leveraged to provision venues information for each neighborhood.We will use the Foursquare API to explore neighborhoods in New York City. The below is image of the Foursquare API data.\n"
        },
        {
            "cell_type": "markdown",
            "metadata": {},
            "source": "<h2> Methodology"
        },
        {
            "cell_type": "markdown",
            "metadata": {},
            "source": "Our main goal is to get optimum location for new businesses in New York city in XYZ company"
        },
        {
            "cell_type": "markdown",
            "metadata": {},
            "source": "<h2> Analytic Approach"
        },
        {
            "cell_type": "markdown",
            "metadata": {},
            "source": "New york city neighborhoods has 5 boroughs and 306 neighborhoods. In this project first part is clustering of manhattan and brooklyn.This is done because of the following analysis"
        },
        {
            "cell_type": "markdown",
            "metadata": {},
            "source": "<h2> Data 1-Newyork city geographical cordinates data"
        },
        {
            "cell_type": "markdown",
            "metadata": {},
            "source": "1. In this we load the data and explore data from  newyork_data.json file. \n2. Transform the data of nested python dictionaries into a pandas dataframe. \n3. This dataframe contains the geographical coordinates of New York city neighborhoods. \n4. This data will used to get Venues data from Fouresquare. \n5. We used geopy and folium libraries to create a map of New York city with neighborhoods superimposed on top. \n "
        },
        {
            "cell_type": "markdown",
            "metadata": {},
            "source": "Data 2- Second data which is used is the DOHMH Farmers Markets and Food Boxes dataset. In this we will be using the data of Farmers Markets data. \n \nThere are totally 144 Farmers Markets in New York city. Highest number are in Manhattan and Brooklyn. And lowest in Queens, Bronx and Staten Island"
        },
        {
            "cell_type": "markdown",
            "metadata": {},
            "source": "Data 3 : To analyize New York city Population, Demographics and Cuisine , scrapped the data from Wikipedia pages given above in the data section. We used BeautifulSoup python library. Beautiful Soup is a Python package for parsing HTML and XML documents (including having malformed markup, i.e. non-closed tags, so named after tag soup). It creates a parse tree for parsed pages that can be used to extract data from HTML, which is useful for web scraping"
        },
        {
            "cell_type": "markdown",
            "metadata": {},
            "source": "<h2> 1. Newyork population"
        },
        {
            "cell_type": "markdown",
            "metadata": {},
            "source": "-> Manhattan (New York County) is the geographically smallest and most densely populated borough.\n-> Manhattan's (New York County's) population density of 72,033 people per square mile (27,812/km\u00b2) in 2015 makes it the highest of any county in the United States and higher than the density of any individual American city. \n-> Brooklyn (Kings County), on the western tip of Long Island, is the city's most populous borough. \n->Queens (Queens County), on Long Island north and east of Brooklyn, is geographically the largest borough. \n"
        },
        {
            "cell_type": "markdown",
            "metadata": {},
            "source": "<h2> 2.Newyork Demographics"
        },
        {
            "cell_type": "markdown",
            "metadata": {},
            "source": " New York City is the most populous city in the United States,[9] with an estimated record high of 8,622,698 residents as of 2017,[7] incorporating more immigration into the city than outmigration since the 2010 United States Census. \nThe racial composition is as given below. This is the reason New York city has restaurants serving cuisine from many countries such as  Indian, African, Japan etc. This also increases the scope for restaurants business in New York City. \n "
        },
        {
            "cell_type": "markdown",
            "metadata": {},
            "source": "<h2> Results"
        },
        {
            "cell_type": "markdown",
            "metadata": {},
            "source": "From this venues data we filtered and used only the restaurant data for Brooklyn & Manhattan clustering and  Bronx, Queens and Staten Island clustering. As we focussed only on restaurants business. "
        },
        {
            "cell_type": "markdown",
            "metadata": {},
            "source": "<h3> Neighborhood K-Means clustering based on mean occurrence of venue category :"
        },
        {
            "cell_type": "markdown",
            "metadata": {},
            "source": "To cluster the neighborhoods into two clusters we used the K-Means clustering Algorithm. k-means clustering aims to partition n observations into k clusters in which each observation belongs to the cluster with the nearest mean. It uses iterative refinement approach. "
        },
        {
            "cell_type": "markdown",
            "metadata": {},
            "source": "<h3> Brooklyn and manhattan"
        },
        {
            "cell_type": "markdown",
            "metadata": {},
            "source": "Cluster0 : The Total and Total Sum of cluster0 has smallest value. It shows that the market is not saturated. \nCluster1 : The Total and Total Sum of cluster1 has highest value. It shows that the markets are saturated. Number of restaurants are very high.  \nThere are no untapped neighborhoods in Brooklyn and Manhattan."
        },
        {
            "cell_type": "markdown",
            "metadata": {},
            "source": "<h2> "
        }
    ],
    "metadata": {
        "kernelspec": {
            "display_name": "Python 3.6",
            "language": "python",
            "name": "python3"
        },
        "language_info": {
            "codemirror_mode": {
                "name": "ipython",
                "version": 3
            },
            "file_extension": ".py",
            "mimetype": "text/x-python",
            "name": "python",
            "nbconvert_exporter": "python",
            "pygments_lexer": "ipython3",
            "version": "3.6.9"
        }
    },
    "nbformat": 4,
    "nbformat_minor": 1
}